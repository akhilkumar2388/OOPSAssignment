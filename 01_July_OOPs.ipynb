{
 "cells": [
  {
   "cell_type": "markdown",
   "id": "160617d2",
   "metadata": {},
   "source": [
    "###### Q1. What is the primary goal of Object-Oriented Programming (OOP)?"
   ]
  },
  {
   "cell_type": "markdown",
   "id": "a105a5f9",
   "metadata": {},
   "source": [
    "<a><strong> Answer</strong> </a>\n",
    "<p>\n",
    "    Following are the primary goals of OOP  <br> \n",
    "    <ul>\n",
    "        <li>\n",
    "            <strong> Resusability : </strong> \n",
    "                <rp> The Object oriented programming aims at promoting code reusability. The concepts of inheretance helps in resusing the parent class attributes and behaviours  </rp>                \n",
    "        </li>\n",
    "        <li>\n",
    "            <strong> Modularity : </strong>  \n",
    "                <m> The OOP breaks down the program in smaller modules known as objects. Each object encapsulates its data and behaviour. This makes it easy to understand and modify the code.</m>\n",
    "        </li>\n",
    "        <li>\n",
    "             <strong> Maintainance of the code : </strong>  \n",
    "         <cm> The modular approach of the OOP helps in better management of the code. It becomes easy to debug and modify the code</cm>\n",
    "        </li>\n",
    "        <li>\n",
    "            <strong> Maintaining the Access : </strong>  \n",
    "         <mp> The concept of encapsulation in OOP helps in hiding the internal details of an object. This provides a kind of security layer hence providing control over access of data.</mp>\n",
    "        </li>\n",
    "   </ul>\n",
    "</p>"
   ]
  },
  {
   "cell_type": "markdown",
   "id": "4adaac66",
   "metadata": {},
   "source": [
    "### Q2. What is an object in Python?"
   ]
  },
  {
   "cell_type": "markdown",
   "id": "be54905b",
   "metadata": {},
   "source": [
    "<a><strong> Answer</strong> </a>\n",
    "<p>\n",
    "Anything that we define in python is treated as an object. The object is an instance of a class. For example a variable of string type belongs to built in str class. \n",
    "</p>"
   ]
  },
  {
   "cell_type": "markdown",
   "id": "d93a3fd1",
   "metadata": {},
   "source": [
    "### Q3. What is a class in Python?"
   ]
  },
  {
   "cell_type": "markdown",
   "id": "b3fe7533",
   "metadata": {},
   "source": [
    "<a><strong> Answer</strong> </a>\n",
    "<pr>\n",
    "Class in python are the blueprint of the object containing attributes and methods. They are used to bundle data and functionality together. We have following types of classes in python\n",
    "    <ul>\n",
    "        <li>\n",
    "            <strong>Built in classes :</strong> These are the classes that are defined in the python language by default. They are avaialble to use without any additional installation. For example, <i>str</i>, <i>int</i>, <i>list</i>, etc\n",
    "        </li>\n",
    "        <li>\n",
    "            <strong>User defined classes :</strong> These are the classes that are defined by the developer according to the requirements of the problem statement. Following is an example of user defined <b><i>person</i></b> class <br>\n",
    "        </li>\n",
    "    </ul>\n",
    "</pr>"
   ]
  },
  {
   "cell_type": "code",
   "execution_count": 23,
   "id": "d2c00b37",
   "metadata": {},
   "outputs": [
    {
     "name": "stdout",
     "output_type": "stream",
     "text": [
      "kumar\n"
     ]
    }
   ],
   "source": [
    "# here we define a class person using class keyword. The person class is a simple one with first_name, last_name with no additional functionality\n",
    "class person:\n",
    "    def __init__(self, first_name,last_name):\n",
    "        self.first_name = first_name\n",
    "        self.last_name = last_name\n",
    "person1 = person(\"akhil\",\"kumar\")  # object of person class is created\n",
    "\n",
    "print(person1.last_name) "
   ]
  },
  {
   "cell_type": "markdown",
   "id": "733e56c5",
   "metadata": {},
   "source": [
    "### Q4. What are attributes and methods in a class?"
   ]
  },
  {
   "cell_type": "markdown",
   "id": "7b9f55ce",
   "metadata": {},
   "source": [
    "<a><strong> Answer</strong> </a>\n",
    "<p>\n",
    "<b>Attributes</b> in a class are the instance variables. These are used to store the data. the data stored varies from object to object. Different objects of class may store different values in these variables. In the following <i>student</i> class we can see the attributes <i> name, roll_number, grade</i> <br>\n",
    "<b>methods</b> in a class are the functions defined within the class. they define the behaviour of the objects of the class. They represent the actions or the operations that can be performed. In the folloing <i>student class</i> we have a method that calculates and returs the percentage of the student, based on the markes provided\n",
    "    \n",
    "\n",
    "</p>"
   ]
  },
  {
   "cell_type": "code",
   "execution_count": 24,
   "id": "163372a7",
   "metadata": {},
   "outputs": [],
   "source": [
    "class student:\n",
    "    def __init__(self,name,roll_number,grade):\n",
    "        self.name = name\n",
    "        self.roll_number = roll_number\n",
    "        self.grade = grade\n",
    "    def percentage(self,subject1marks,subject2marks):\n",
    "        sum = self.subject1marks + self.subject2marks\n",
    "        per = (sum/200)*100\n",
    "        return per"
   ]
  },
  {
   "cell_type": "markdown",
   "id": "3b21005c",
   "metadata": {},
   "source": [
    "### Q5. What is the difference between class variables and instance variables in Python?"
   ]
  },
  {
   "cell_type": "markdown",
   "id": "30a82df4",
   "metadata": {},
   "source": [
    "<a><strong> Answer</strong> </a>\n",
    "<p>\n",
    "<b>Class variable</b> are the variables that are shared among all instances of the class. Changes made to this variable is available across all the objects of the class. They come handy when the value stored is common to all the objects of the class. For example, in the following <i>student</i> class, <i>school</i> is common to all the students, i.e all the instances of the student class are having common value for the school variable. <br>\n",
    "<b>instance variable</b> are the variables that are different for all the instances of the class. For example, in the following <i>student</i> class, <i>name, roll_number, grade</i> are unique to each student, i.e all the instances of the student class are having different values for these variables. <br>\n",
    "    \n",
    "</p>"
   ]
  },
  {
   "cell_type": "code",
   "execution_count": 25,
   "id": "e9819ec3",
   "metadata": {},
   "outputs": [
    {
     "data": {
      "text/plain": [
       "34.0"
      ]
     },
     "execution_count": 25,
     "metadata": {},
     "output_type": "execute_result"
    }
   ],
   "source": [
    "class student:\n",
    "    school = \"abc school\"\n",
    "    def __init__(self,name,roll_number,grade):\n",
    "        self.name = name\n",
    "        self.roll_number = roll_number\n",
    "        self.grade = grade\n",
    "    def percentage(self,subject1marks,subject2marks):\n",
    "        sum = subject1marks + subject2marks\n",
    "        per = (sum/200)*100\n",
    "        return per\n",
    "s1 = student(\"a\",2,10)\n",
    "s1.school\n",
    "s1.percentage(23,45)"
   ]
  },
  {
   "cell_type": "markdown",
   "id": "c87bbefa",
   "metadata": {},
   "source": [
    "### Q6. What is the purpose of the self parameter in Python class methods?"
   ]
  },
  {
   "cell_type": "markdown",
   "id": "63fd6812",
   "metadata": {},
   "source": [
    "<a><strong> Answer</strong> </a>\n",
    "<p>\n",
    "<b>Self</b> parameter is python class methods denotes the current instance of the class. It is the first argument of the method. It is not compulsory to use the self keyword, we can use any other name as well, we just need to make sure that its the first paramater.\n",
    "    \n",
    "</p>"
   ]
  },
  {
   "cell_type": "markdown",
   "id": "0ff5038a",
   "metadata": {},
   "source": [
    "<p><strong> Q7. For a library management system, you have to design the \"Book\" class with OOP principles in mind. The “Book” class will have following attributes:<br>\n",
    "a. title: Represents the title of the book.<br>\n",
    "b. author: Represents the author(s) of the book.<br>\n",
    "c. isbn: Represents the ISBN (International Standard Book Number) of the book.<br>\n",
    "d. publication_year: Represents the year of publication of the book.<br>\n",
    "e. available_copies: Represents the number of copies available for checkout.<br>\n",
    "The class will also include the following methods:<br>\n",
    "a. check_out(self): Decrements the available copies by one if there are copies available for checkout.<br>\n",
    "b. return_book(self): Increments the available copies by one when a book is returned.<br>\n",
    "c. display_book_info(self): Displays the information about the book, including its attributes and the number of available copies. </strong>\n",
    "</p>"
   ]
  },
  {
   "cell_type": "markdown",
   "id": "f5ae1820",
   "metadata": {},
   "source": [
    "<a><strong> Answer</strong> </a>"
   ]
  },
  {
   "cell_type": "code",
   "execution_count": 26,
   "id": "264d13c2",
   "metadata": {},
   "outputs": [],
   "source": [
    "class Book:\n",
    "    def __init__(self,title,author,isbn,publication_year,available_copies):\n",
    "        self.title = title\n",
    "        self.author = author\n",
    "        self.isbn = isbn\n",
    "        self.publication_year = publication_year\n",
    "        self.available_copies = available_copies\n",
    "    def check_out(self):\n",
    "        if self.available_copies>0:\n",
    "          self.available_copies = self.available_copies-1\n",
    "          print(\"checked out 1 copy of the book \")\n",
    "        else:\n",
    "          print(\"copy not available\")\n",
    "    def return_book(self):\n",
    "        self.available_copies = self.available_copies + 1\n",
    "    def display_book_info(self):\n",
    "        print(f\"book title : {self.title}\")\n",
    "        print(f\"book author is : {self.author}\")\n",
    "        print(f\"book isbn code is : {self.isbn}\")\n",
    "        print(f\"publication year of the book is : {self.publication_year}\")\n",
    "        print(f\"available copies of the book : {self.available_copies}\")"
   ]
  },
  {
   "cell_type": "markdown",
   "id": "6dfa0879",
   "metadata": {},
   "source": [
    "<p><strong> Q8.For a ticket booking system, you have to design the \"Ticket\" class with OOP principles in mind. The “Ticket” class should have the following attributes:<br>\n",
    "a. ticket_id: Represents the unique identifier for the ticket.<br>\n",
    "b. event_name: Represents the name of the event.<br>\n",
    "c. event_date: Represents the date of the event.<br>\n",
    "d. venue: Represents the venue of the event.<br>\n",
    "e. seat_number: Represents the seat number associated with the ticket.<br>\n",
    "f. price: Represents the price of the ticket.<br>\n",
    "g. is_reserved: Represents the reservation status of the ticket.<br>\n",
    "The class also includes the following methods:<br>\n",
    "a. reserve_ticket(self): Marks the ticket as reserved if it is not already reserved.<br>\n",
    "b. cancel_reservation(self): Cancels the reservation of the ticket if it is alreadyreserved.\n",
    "c. display_ticket_info(self): Displays the information about the ticket, including its attributes and reservation status.\n",
    "\n",
    "</p>"
   ]
  },
  {
   "cell_type": "code",
   "execution_count": 27,
   "id": "798032a4",
   "metadata": {},
   "outputs": [
    {
     "ename": "SyntaxError",
     "evalue": "invalid syntax (2627714180.py, line 1)",
     "output_type": "error",
     "traceback": [
      "\u001b[1;36m  Cell \u001b[1;32mIn[27], line 1\u001b[1;36m\u001b[0m\n\u001b[1;33m    <a><strong> Answer</strong> </a>\u001b[0m\n\u001b[1;37m    ^\u001b[0m\n\u001b[1;31mSyntaxError\u001b[0m\u001b[1;31m:\u001b[0m invalid syntax\n"
     ]
    }
   ],
   "source": [
    "<a><strong> Answer</strong> </a>"
   ]
  },
  {
   "cell_type": "code",
   "execution_count": 28,
   "id": "3c4ccd60",
   "metadata": {},
   "outputs": [],
   "source": [
    "class Ticket:\n",
    "  def __init__(self,ticket_id,event_name,event_date,venue,seat_number,price):\n",
    "    self.ticket_id = ticket_id\n",
    "    self.event_name = event_name\n",
    "    self.event_date = event_date\n",
    "    self.venue = venue\n",
    "    self.seat_number = seat_number\n",
    "    self.price = price\n",
    "    self.is_reserved = False\n",
    "\n",
    "  def reserve_ticket(self):\n",
    "        if self.is_reserved == False:\n",
    "            self.is_reserved = True\n",
    "            print(\"Ticket reserved successfully.\")\n",
    "        else:\n",
    "            print(\"Ticket is already reserved.\")\n",
    "\n",
    "  def cancel_reservation(self):\n",
    "        if self.is_reserved == True:\n",
    "            self.is_reserved = False\n",
    "            print(\"Ticket reservation canceled successfully.\")\n",
    "        else:\n",
    "            print(\"Ticket is not reserved yet\")\n",
    "\n",
    "  def display_ticket_info(self):\n",
    "        print(\"Ticket Information:\")\n",
    "        print(\"Ticket ID:\", self.ticket_id)\n",
    "        print(\"Event Name:\", self.event_name)\n",
    "        print(\"Event Date:\", self.event_date)\n",
    "        print(\"Venue:\", self.venue)\n",
    "        print(\"Seat Number:\", self.seat_number)\n",
    "        print(\"Price:\", self.price)\n",
    "        print(\"Reservation Status:\", \"Reserved\" if self.is_reserved else \"Not Reserved\")\n"
   ]
  },
  {
   "cell_type": "markdown",
   "id": "92507228",
   "metadata": {},
   "source": [
    "<p><strong> Q9. You are creating a shopping cart for an e-commerce website. Using OOP to model <br>\n",
    "the \"ShoppingCart\" functionality the class should contain following attributes and methods:\n",
    "a. items: Represents the list of items in the shopping cart. <br>\n",
    "The class also includes the following methods:<br>\n",
    "a. add_item(self, item): Adds an item to the shopping cart by appending it to the list of items.<br>\n",
    "b. remove_item(self, item): Removes an item from the shopping cart if it exists in the list.<br>\n",
    "c. view_cart(self): Displays the items currently present in the shopping cart.<br>\n",
    "d. clear_cart(self): Clears all items from the shopping cart by reassigning an empty list to the items attribute.<br>\n",
    "</p>"
   ]
  },
  {
   "cell_type": "code",
   "execution_count": 29,
   "id": "4915491d",
   "metadata": {},
   "outputs": [],
   "source": [
    "class shoppingcart:\n",
    "  def __init__(self):\n",
    "    self.list_of_items = []\n",
    "  def add_item(self, item):\n",
    "    self.list_of_items.append(item)\n",
    "    print(f\"added {item} to your shopping list\")\n",
    "  def remove_item(self, item):\n",
    "    if(item in self.list_of_items):\n",
    "      self.list_of_items.delete(item)\n",
    "      print(f\"{item} is removed from your shopping list\")\n",
    "    else:\n",
    "      print(f\"{item} was not in you shopping list\")\n",
    "\n",
    "  def view_cart(self):\n",
    "    print(\"Following are the items in your shopping list:\")\n",
    "    for i in self.list_of_items:\n",
    "      print(i)\n",
    "  def clear_cart(self):\n",
    "    self.list_of_items.clear()"
   ]
  },
  {
   "cell_type": "markdown",
   "id": "b96c871e",
   "metadata": {},
   "source": [
    "<p><strong> Q10. Imagine a school management system. You have to design the \"Student\" class using OOP concepts.The “Student” class has the following attributes:\n",
    "a. name: Represents the name of the student. <br>\n",
    "b. age: Represents the age of the student.<br>\n",
    "c. grade: Represents the grade or class of the student.<br>\n",
    "d. student_id: Represents the unique identifier for the student.<br>\n",
    "e. attendance: Represents the attendance record of the student.<br>\n",
    "The class should also include the following methods:\n",
    "a. update_attendance(self, date, status): Updates the attendance record of the student for a given date with the provided status (e.g., present or absent). <br>\n",
    "b. get_attendance(self): Returns the attendance record of the student.<br>\n",
    "c. get_average_attendance(self): Calculates and returns the average attendance percentage of the student based on their attendance record.<br>\n",
    "</p>"
   ]
  },
  {
   "cell_type": "code",
   "execution_count": 30,
   "id": "88108e56",
   "metadata": {},
   "outputs": [],
   "source": [
    "class student:\n",
    "    def __init__(self,name,age,grade,student_id):\n",
    "        self.name = name\n",
    "        self.age = age\n",
    "        self.grade = grade\n",
    "        self.student_id = student_id\n",
    "        self.attendance = {}\n",
    "    def update_attendance(self,date,status):\n",
    "        self.attendance[date] =status\n",
    "        print(\"attendance updated\")\n",
    "    def get_attendance(self):\n",
    "        return self.attendance\n",
    "    def get_average_attendance(self):\n",
    "        present = 0\n",
    "        for val in self.attendance.values():\n",
    "            if val == \"Present\":\n",
    "                present = present + 1\n",
    "                per = (present /  (len(self.attendance.values())))*100\n",
    "        return per\n"
   ]
  },
  {
   "cell_type": "code",
   "execution_count": null,
   "id": "6ff8088f",
   "metadata": {},
   "outputs": [],
   "source": []
  }
 ],
 "metadata": {
  "kernelspec": {
   "display_name": "Python 3 (ipykernel)",
   "language": "python",
   "name": "python3"
  },
  "language_info": {
   "codemirror_mode": {
    "name": "ipython",
    "version": 3
   },
   "file_extension": ".py",
   "mimetype": "text/x-python",
   "name": "python",
   "nbconvert_exporter": "python",
   "pygments_lexer": "ipython3",
   "version": "3.10.9"
  }
 },
 "nbformat": 4,
 "nbformat_minor": 5
}
