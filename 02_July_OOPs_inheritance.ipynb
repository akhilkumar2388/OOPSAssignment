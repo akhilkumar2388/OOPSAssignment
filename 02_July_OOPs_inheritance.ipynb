{
 "cells": [
  {
   "cell_type": "markdown",
   "id": "37a5b834",
   "metadata": {},
   "source": [
    "#### Q1. Explain what inheritance is in object-oriented programming and why it is used."
   ]
  },
  {
   "cell_type": "markdown",
   "id": "aea5b05d",
   "metadata": {},
   "source": [
    "<a><strong> Answer</strong> </a>\n",
    "<p>\n",
    "The concept of inheritance enables a class to inherit behaviour from another class. The class inheriting the behaviour is called the derived class and the other class whose behaviour is being inherited is called the parent class. It not only promotes code reusagability but also makes the program less complex.\n",
    "\n",
    "</p>"
   ]
  },
  {
   "cell_type": "code",
   "execution_count": 42,
   "id": "7235458f",
   "metadata": {},
   "outputs": [],
   "source": [
    "#here parent is the super class, which is inherited by the child class. Which means the methods of the superclass \n",
    "#will be available to the child class.\n",
    "class parent:\n",
    "    def __init__(self):\n",
    "        print(\"this is the parent class\")\n",
    "    def addnumbers(self,num1,num2):\n",
    "        print(\"addition of the numbers is\", num1+num2)\n",
    "class child(parent):\n",
    "    def __init__(self):\n",
    "        print(\"this is the child class\")\n",
    "    def subtractnumbers(self,num1,num2):\n",
    "        print(\"subraction of the numbers is\", num1 - num2)\n"
   ]
  },
  {
   "cell_type": "code",
   "execution_count": 43,
   "id": "2e4943d9",
   "metadata": {},
   "outputs": [
    {
     "name": "stdout",
     "output_type": "stream",
     "text": [
      "this is the child class\n",
      "addition of the numbers is 3\n",
      "subraction of the numbers is -1\n"
     ]
    }
   ],
   "source": [
    "c1 = child() # object of the child class\n",
    "c1.addnumbers(1,2) # child class object is able to use the methods defined in parent class\n",
    "c1.subtractnumbers(1,2)"
   ]
  },
  {
   "cell_type": "markdown",
   "id": "ffc06647",
   "metadata": {},
   "source": [
    "#### Q2. Discuss the concept of single inheritance and multiple inheritance, highlighting their differences and advantages."
   ]
  },
  {
   "cell_type": "markdown",
   "id": "e8cca77f",
   "metadata": {},
   "source": [
    "<a><strong> Answer</strong> </a>\n",
    "<p>\n",
    "    <strong>Single Inheritance : </strong> In single inheritance, a class can inherit from a single base class. This means that the class can inherit the behaviours of only one class. Following shows an example of single inheritance. The car class inheritied from the vehicle class, the car class object is able to acccess the methods of the vehivle class. <br>    \n",
    "Following are the benifits of single inhertance : <br>\n",
    "    1. The complexity is less as compared to multiple inheritance. <br>\n",
    "    2. The clarity is more sue to less complex structure.\n",
    "    \n",
    "</p>"
   ]
  },
  {
   "cell_type": "code",
   "execution_count": 44,
   "id": "8f96f26a",
   "metadata": {},
   "outputs": [
    {
     "name": "stdout",
     "output_type": "stream",
     "text": [
      "this car can carry 3 passagers\n",
      "engine started\n"
     ]
    }
   ],
   "source": [
    "class vehicle:\n",
    "    def startengine(self):\n",
    "        print(\"engine started\")\n",
    "class car(vehicle):    \n",
    "    def numberofpasangers(self,num):\n",
    "        print(f\"this car can carry {num} passagers\")\n",
    "c= car()\n",
    "c.numberofpasangers(3)\n",
    "c.startengine() "
   ]
  },
  {
   "cell_type": "markdown",
   "id": "baa7f8b3",
   "metadata": {},
   "source": [
    "<p>\n",
    "    <strong>Multiple inheritance : </strong> In multiple inheritance, a class can inherit from a multiple base classes. This means that the class can inherit the behaviours of more than one class. Following shows an example of multiple inheritance. The car class inheritied from the vehicle class and passangervehicle class, the car class object is able to acccess the methods of the vehicle class and passengervehicle class. <br>    \n",
    "    Following are the benifits of multiple inhertance : <br>\n",
    "    1. We can create the functionality of the inherited class from more than one base class. leading to enhanced capabilities.  <br>\n",
    "    2. It gives more flexibility to the developer.<br>\n",
    "    3. Due to inheritance from multiple classes, the code reusability is increased.<br>\n",
    "\n",
    "</p>"
   ]
  },
  {
   "cell_type": "code",
   "execution_count": 45,
   "id": "61430017",
   "metadata": {},
   "outputs": [
    {
     "name": "stdout",
     "output_type": "stream",
     "text": [
      "length of the car is 4m\n",
      "number of passengers of the vehicle is 4\n",
      "engine started\n"
     ]
    }
   ],
   "source": [
    "class vehicle:\n",
    "    def startengine(self):\n",
    "        print(\"engine started\")\n",
    "class passengervehicle:\n",
    "    def numberofpasangers(self,num):\n",
    "        print(f\"number of passengers of the vehicle is {num}\")       \n",
    "class car(vehicle,passengervehicle):\n",
    "    def sizeofcar(self,size):\n",
    "        print(f\"length of the car is {size}\")\n",
    "        \n",
    "car1 = car()\n",
    "car1.sizeofcar(\"4m\")\n",
    "car1.numberofpasangers(4) \n",
    "car1.startengine()"
   ]
  },
  {
   "cell_type": "markdown",
   "id": "5f58db2d",
   "metadata": {},
   "source": [
    "#### Q3. Explain the terms \"base class\" and \"derived class\" in the context of inheritance."
   ]
  },
  {
   "cell_type": "markdown",
   "id": "9fd3cb08",
   "metadata": {},
   "source": [
    "<a><strong> Answer</strong> </a>\n",
    "<p>\n",
    "    <strong>Base class</strong> is also known as the superclass or the parent class. This class is the one that act as a template, which is inherited by other classes. This class is designed to be reusable and generic in general <br>\n",
    "    <strong>Derived class</strong> is also known as subclass which inherits the behaviour of the base class. The derived class extends the functionality of the base class by modifying and adding more features to the existing code.\n",
    "</p>"
   ]
  },
  {
   "cell_type": "markdown",
   "id": "3bf5390b",
   "metadata": {},
   "source": [
    "#### Q4. What is the significance of the \"protected\" access modifier in inheritance? How does it differ from \"private\" and \"public\" modifiers?"
   ]
  },
  {
   "cell_type": "markdown",
   "id": "235b35b3",
   "metadata": {},
   "source": [
    "<a><strong> Answer</strong> </a>\n",
    "<p>The attributes with <b>protected</b> access modifier are accessible inside the parent class as well as the subclasses. This access modifier makes sure that the attribute is not accessible outside the parent class and the child class. The developer can add more functionality in the subclass meanwhile making it sure that the attribute is not accessible outside the classes.\n",
    "\n",
    "</p>"
   ]
  },
  {
   "cell_type": "code",
   "execution_count": 46,
   "id": "e53948a1",
   "metadata": {},
   "outputs": [
    {
     "name": "stdout",
     "output_type": "stream",
     "text": [
      "BS6\n",
      "length of the car is 4 and the type of engine is petrol\n",
      "None\n"
     ]
    }
   ],
   "source": [
    "class vehicle:\n",
    "    emmission_standard = \"BS6\"  #this is a public attritube, which is accessible outside the class.\n",
    "    _engine =\"petrol\" # this is protected attribute, this is accessible only inside the sub class or the derived class\n",
    "    __vehicletype = \"car\" # this is a private attribute and is accessible only inside the current branch (i.e parent class)\n",
    "    \n",
    "    def startengine(self):\n",
    "        print(f\"{self.__vehicletype}engine started\")    # private attribute is getting used here  \n",
    "class car(vehicle):\n",
    "    def sizeofcar(self,size):\n",
    "        print(f\"length of the car is {size} and the type of engine is {self._engine}\")\n",
    "        \n",
    "c1 = car()\n",
    "print (c1.emmission_standard) \n",
    "print (c1.sizeofcar(4))"
   ]
  },
  {
   "cell_type": "markdown",
   "id": "f73d9e0e",
   "metadata": {},
   "source": [
    "#### Q5. What is the purpose of the \"super\" keyword in inheritance? Provide an example."
   ]
  },
  {
   "cell_type": "markdown",
   "id": "0c794d5f",
   "metadata": {},
   "source": [
    "<a><strong> Answer</strong> </a>\n",
    "<p><b>Super</b> keyword is used when we want to call the base/parent class methods inside our subclass/derived class. Super keyword returns a proxy object of the parent class which allows us to use the base class methods\n",
    "</p>"
   ]
  },
  {
   "cell_type": "code",
   "execution_count": 47,
   "id": "223f6288",
   "metadata": {},
   "outputs": [
    {
     "name": "stdout",
     "output_type": "stream",
     "text": [
      "This is a method from the subclass.\n",
      "This is a method from the parent class.\n"
     ]
    }
   ],
   "source": [
    "class parentclass:\n",
    "    def parentmethod(self):\n",
    "        print(\"This is a method from the parent class.\")\n",
    "\n",
    "class childclass(parentclass):\n",
    "    def childclassmethod(self):\n",
    "        print(\"This is a method from the subclass.\")\n",
    "        super().parentmethod() # here we use the base class method.\n",
    "\n",
    "# Create an instance of SubClass\n",
    "obj = childclass()\n",
    "\n",
    "# Call the subclass method\n",
    "obj.childclassmethod()\n",
    "# Output: This is a method from the subclass."
   ]
  },
  {
   "cell_type": "markdown",
   "id": "99f81638",
   "metadata": {},
   "source": [
    "#### Q6. Create a base class called \"Vehicle\" with attributes like \"make\", \"model\", and \"year\". Then, create a derived class called \"Car\" that inherits from \"Vehicle\" and adds an attribute called \"fuel_type\". Implement appropriate methods in both classes."
   ]
  },
  {
   "cell_type": "markdown",
   "id": "86b02f50",
   "metadata": {},
   "source": [
    "<a><strong> Answer</strong> </a>"
   ]
  },
  {
   "cell_type": "code",
   "execution_count": 48,
   "id": "1a20f6d9",
   "metadata": {},
   "outputs": [],
   "source": [
    "class vehicle:\n",
    "    def __init__(self,make,model,year):\n",
    "        self.make=make\n",
    "        self.model=model\n",
    "        self.year=year\n",
    "class car(vehicle):\n",
    "    def __init__(self,make,model,year,fuel_type):\n",
    "        super().__init__(make,model,year)\n",
    "        self.fuel_type = fuel_type\n",
    "    def describecar(self):\n",
    "        print(f\"The car is {self.model} with {self.fuel_type} engine made by {self.make} in the year {self.year}\")"
   ]
  },
  {
   "cell_type": "code",
   "execution_count": 49,
   "id": "9dc0bd00",
   "metadata": {},
   "outputs": [
    {
     "name": "stdout",
     "output_type": "stream",
     "text": [
      "The car is e6 with petrol engine made by bmw in the year 2022\n"
     ]
    }
   ],
   "source": [
    "c1 = car(\"bmw\",\"e6\",2022,\"petrol\")\n",
    "c1.describecar()"
   ]
  },
  {
   "cell_type": "markdown",
   "id": "f3e7c868",
   "metadata": {},
   "source": [
    "#### Q7. Create a base class called \"Employee\" with attributes like \"name\" and \"salary.\" Derive two classes, \"Manager\" and  Developer,\" from \"Employee.\" Add an additional attribute called \"department\" for the \"Manager\" class and \"programming_language\" for the \"Developer\" class."
   ]
  },
  {
   "cell_type": "markdown",
   "id": "3e1682ea",
   "metadata": {},
   "source": [
    "<a><strong> Answer</strong> </a>"
   ]
  },
  {
   "cell_type": "code",
   "execution_count": 50,
   "id": "4a4232c1",
   "metadata": {},
   "outputs": [],
   "source": [
    "class Employee:\n",
    "    def __init__(self,name,salary):\n",
    "        self.name = name\n",
    "        self.salary = salary\n",
    "    def showdetails(self):\n",
    "        print(f\"Name of the emplyee : {self.name}\")\n",
    "        print(f\"Salary of the emplyee : {self.salary}\")\n",
    "class Manager(Employee):\n",
    "    def __init__(self,name,salary,department):\n",
    "        super().__init__(name,salary)\n",
    "        self.department = department\n",
    "    def showdetails(self):\n",
    "        super().showdetails()\n",
    "        print(f\"Department of the Manager : {self.department}\")\n",
    "class Developer(Employee):\n",
    "    def __init__(self,name,salary,programming_language):\n",
    "        super().__init__(name,salary)\n",
    "        self.programming_language = programming_language\n",
    "    def showdetails(self):\n",
    "        super().showdetails()\n",
    "        print(f\"programming language of this Developer : {self.programming_language}\")"
   ]
  },
  {
   "cell_type": "code",
   "execution_count": 51,
   "id": "193c45f7",
   "metadata": {},
   "outputs": [
    {
     "name": "stdout",
     "output_type": "stream",
     "text": [
      "Name of the emplyee : akhil\n",
      "Salary of the emplyee : 100\n",
      "Department of the Manager : IT\n",
      "Name of the emplyee : akhil2\n",
      "Salary of the emplyee : 100\n",
      "programming language of this Developer : python\n"
     ]
    }
   ],
   "source": [
    "m1=Manager(\"akhil\",100,\"IT\")\n",
    "m1.showdetails()\n",
    "d1=Developer(\"akhil2\",100,\"python\")\n",
    "d1.showdetails()"
   ]
  },
  {
   "cell_type": "markdown",
   "id": "853c5c92",
   "metadata": {},
   "source": [
    "#### Q8. Design a base class called \"Shape\" with attributes like \"colour\" and \"border_width.\" Create derived classes, \"Rectangle\" and \"Circle,\" that inherit from \"Shape\" and add specific attributes like \"length\" and \"width\" for the \"Rectangle\" class and \"radius\" for the \"Circle\" class."
   ]
  },
  {
   "cell_type": "code",
   "execution_count": 52,
   "id": "a3a84321",
   "metadata": {},
   "outputs": [],
   "source": [
    "class Shape:\n",
    "    def __init__(self,colour,border_width):\n",
    "        self.colour = colour\n",
    "        self.border_width = border_width\n",
    "    def showdetails(self):\n",
    "        print(f\"Color of shape : {self.colour}\")\n",
    "        print(f\"border with of the shape : {self.border_width}\")\n",
    "class Rectangle(Shape):\n",
    "    def __init__(self,colour,border_width,length,width):\n",
    "        super().__init__(colour,border_width)\n",
    "        self.length = length\n",
    "        self.width = width\n",
    "    def showdetails(self):\n",
    "        super().showdetails()\n",
    "        print(f\"length of rectangle : {self.length}\")\n",
    "        print(f\"width of rectangle : {self.width}\")\n",
    "        \n",
    "class Circle(Shape):\n",
    "    def __init__(self,colour,border_width,radius):\n",
    "        super().__init__(colour,border_width)\n",
    "        self.radius = radius\n",
    "    def showdetails(self):\n",
    "        super().showdetails()\n",
    "        print(f\"radius of circle : {self.radius}\")"
   ]
  },
  {
   "cell_type": "code",
   "execution_count": 53,
   "id": "a72ca00d",
   "metadata": {},
   "outputs": [
    {
     "name": "stdout",
     "output_type": "stream",
     "text": [
      "Color of shape : Blue\n",
      "border with of the shape : 12\n",
      "length of rectangle : 15\n",
      "width of rectangle : 35\n",
      "Color of shape : Red\n",
      "border with of the shape : 12\n",
      "radius of circle : 10\n"
     ]
    }
   ],
   "source": [
    "r1=Rectangle(\"Blue\",12,15,35)\n",
    "r1.showdetails()\n",
    "c1=Circle(\"Red\",12,10)\n",
    "c1.showdetails()"
   ]
  },
  {
   "cell_type": "markdown",
   "id": "acfe6cfc",
   "metadata": {},
   "source": [
    "#### Q9. Create a base class called \"Device\" with attributes like \"brand\" and \"model.\" Derive two classes, \"Phone\" and \"Tablet,\" from \"Device.\" Add specific attributes like \"screen_size\" for the \"Phone\" class and \"battery_capacity\" for the \"Tablet\" class."
   ]
  },
  {
   "cell_type": "code",
   "execution_count": 54,
   "id": "b1054b2c",
   "metadata": {},
   "outputs": [],
   "source": [
    "class Device:\n",
    "    def __init__(self,brand,model):\n",
    "        self.brand = brand\n",
    "        self.model = model\n",
    "    def showdetails(self):\n",
    "        print(f\"brand of the device : {self.brand}\")\n",
    "        print(f\"model of the device : {self.model}\")\n",
    "class Phone(Device):\n",
    "    def __init__(self,brand,model,screen_size):\n",
    "        super().__init__(brand,model)\n",
    "        self.screen_size = screen_size\n",
    "    def showdetails(self):\n",
    "        super().showdetails()\n",
    "        print(f\"screen size of phone is : {self.screen_size}\")\n",
    "        \n",
    "class Tablet(Device):\n",
    "    def __init__(self,brand,model,battery_capacity):\n",
    "        super().__init__(brand,model)\n",
    "        self.battery_capacity = battery_capacity\n",
    "    def showdetails(self):\n",
    "        super().showdetails()\n",
    "        print(f\"battery capacity of tablet is : {self.battery_capacity}\")"
   ]
  },
  {
   "cell_type": "code",
   "execution_count": 55,
   "id": "1dd26d5c",
   "metadata": {},
   "outputs": [
    {
     "name": "stdout",
     "output_type": "stream",
     "text": [
      "brand of the device : Apple\n",
      "model of the device : A2\n",
      "battery capacity of tablet is : 4000\n",
      "brand of the device : Samsung\n",
      "model of the device : S10\n",
      "screen size of phone is : 7 inch\n"
     ]
    }
   ],
   "source": [
    "t1 = Tablet(\"Apple\",\"A2\",4000)\n",
    "t1.showdetails()\n",
    "p1 = Phone(\"Samsung\",\"S10\",\"7 inch\")\n",
    "p1.showdetails()"
   ]
  },
  {
   "cell_type": "markdown",
   "id": "15601a6e",
   "metadata": {},
   "source": [
    "#### Q10. Create a base class called \"BankAccount\" with attributes like \"account_number\" and \"balance.\" Derive two classes, \"SavingsAccount\" and \"CheckingAccount,\" from \"BankAccount.\" Add specific methods like \"calculate_interest\" for the \"SavingsAccount\" class and \"deduct_fees\" for the \"CheckingAccount\" class."
   ]
  },
  {
   "cell_type": "code",
   "execution_count": 56,
   "id": "25ed86e1",
   "metadata": {},
   "outputs": [],
   "source": [
    "class BankAccount:\n",
    "    def __init__(self,account_number,balance):\n",
    "        self.account_number = account_number\n",
    "        self.balance = balance\n",
    "    def getdetails(self):\n",
    "        print(f\"account number : {self.account_number}\")\n",
    "        print(f\"Balance : {self.balance}\")\n",
    "\n",
    "class SavingsAccount(BankAccount):\n",
    "    def __init__(self,account_number,balance,interest_rate):\n",
    "        super().__init__(account_number,balance)\n",
    "        self.interest_rate = interest_rate\n",
    "    def calculate_interest(self):\n",
    "        interest = self.balance * self.interest_rate / 100\n",
    "        self.balance += interest\n",
    "        self.getdetails()\n",
    "        print(f\"interest earned : {interest}\")\n",
    "\n",
    "class CheckingAccount(BankAccount):\n",
    "    def __init__(self,account_number,balance,fees):\n",
    "        super().__init__(account_number,balance)\n",
    "        self.fees = fees\n",
    "    def deduct_fees(self):\n",
    "        self.balance -= self.fees\n",
    "        self.getdetails()\n",
    "        print(f\"fee deducted : {self.fees}\")"
   ]
  },
  {
   "cell_type": "code",
   "execution_count": 57,
   "id": "2d39c25e",
   "metadata": {},
   "outputs": [
    {
     "name": "stdout",
     "output_type": "stream",
     "text": [
      "account number : 125\n",
      "Balance : 11000.0\n",
      "interest earned : 1000.0\n",
      "account number : 123\n",
      "Balance : 9910\n",
      "fee deducted : 90\n"
     ]
    }
   ],
   "source": [
    "s1 = SavingsAccount(125,10000,10)\n",
    "s1.calculate_interest()\n",
    "s2 = CheckingAccount(123,10000,90)\n",
    "s2.deduct_fees()"
   ]
  },
  {
   "cell_type": "code",
   "execution_count": null,
   "id": "58b8edce",
   "metadata": {},
   "outputs": [],
   "source": []
  },
  {
   "cell_type": "code",
   "execution_count": null,
   "id": "33904b6d",
   "metadata": {},
   "outputs": [],
   "source": []
  }
 ],
 "metadata": {
  "kernelspec": {
   "display_name": "Python 3 (ipykernel)",
   "language": "python",
   "name": "python3"
  },
  "language_info": {
   "codemirror_mode": {
    "name": "ipython",
    "version": 3
   },
   "file_extension": ".py",
   "mimetype": "text/x-python",
   "name": "python",
   "nbconvert_exporter": "python",
   "pygments_lexer": "ipython3",
   "version": "3.10.9"
  }
 },
 "nbformat": 4,
 "nbformat_minor": 5
}
